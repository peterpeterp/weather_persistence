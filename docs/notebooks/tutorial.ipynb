{
 "cells": [
  {
   "cell_type": "markdown",
   "metadata": {},
   "source": [
    "## Tutorial"
   ]
  },
  {
   "cell_type": "code",
   "execution_count": 5,
   "metadata": {},
   "outputs": [],
   "source": [
    "import sys,os\n",
    "import numpy as np\n",
    "from netCDF4 import Dataset,num2date\n",
    "import random as random\n",
    "import dimarray as da\n",
    "sys.path.append(os.path.abspath('../../'))\n",
    "from persistence_functions import *"
   ]
  },
  {
   "cell_type": "markdown",
   "metadata": {},
   "source": [
    "**Load detrended temperature anomalies**\n"
   ]
  },
  {
   "cell_type": "code",
   "execution_count": 6,
   "metadata": {},
   "outputs": [
    {
     "name": "stdout",
     "output_type": "stream",
     "text": [
      "percentiles [-1.65030825  0.01166975  1.68142478]\n"
     ]
    }
   ],
   "source": [
    "tas=da.read_nc('sample_tas.nc')['tas']\n",
    "print 'percentiles',np.nanpercentile(tas.ix[:,0,0].values,[10,50,90])"
   ]
  },
  {
   "cell_type": "markdown",
   "metadata": {},
   "source": [
    "**convert tas anomalies to a state array**"
   ]
  },
  {
   "cell_type": "code",
   "execution_count": 7,
   "metadata": {},
   "outputs": [
    {
     "name": "stdout",
     "output_type": "stream",
     "text": [
      "temperature anomaly: [-1.2905025  -2.1703892  -2.124154   -1.8810792  -1.5038338  -2.1755633\n",
      " -1.7776151  -0.68114567  0.17394018  0.6489425  -0.35136604  0.46413946\n",
      "  0.979579    2.148981    0.6392119  -0.9649811  -0.7494569  -0.5388527\n",
      " -0.22809458 -1.2265306 ]\n",
      "state: [-1. -1. -1. -1. -1. -1. -1. -1.  1.  1.  1.  1.  1.  1.  1. -1. -1. -1.\n",
      "  1. -1.]\n"
     ]
    }
   ],
   "source": [
    "temp_anomaly_to_ind('sample_tas.nc','sample_tas_state.nc',var_name='tas',overwrite=True)\n",
    "state=da.read_nc('sample_tas_state.nc')['state']\n",
    "print 'temperature anomaly:',tas.ix[:20,0,0].values\n",
    "print 'state:',state.ix[:20,0,0].values"
   ]
  },
  {
   "cell_type": "markdown",
   "metadata": {},
   "source": [
    "**compute persistence**"
   ]
  },
  {
   "cell_type": "code",
   "execution_count": 16,
   "metadata": {},
   "outputs": [
    {
     "name": "stdout",
     "output_type": "stream",
     "text": [
      "state: [-1. -1. -1. -1. -1. -1. -1. -1.  1.  1.  1.  1.  1.  1.  1. -1. -1. -1.\n",
      "  1. -1. -1. -1. -1. -1. -1.  1.]\n",
      "period length: [-8.  7. -3.  1. -6.]\n",
      "period midpont: [46435.5 46442.5 46447.5 46449.5 46452.5]\n"
     ]
    }
   ],
   "source": [
    "get_persistence('sample_tas_state.nc','sample_tas_period.nc',overwrite=True)\n",
    "period=da.read_nc('sample_tas_period.nc')\n",
    "print 'state:',state.ix[:26,0,0].values\n",
    "print 'period length:',period['period_length'].ix[:5,0,0].values\n",
    "print 'period midpont:',period['period_midpoints'].ix[:5,0,0].values"
   ]
  },
  {
   "cell_type": "code",
   "execution_count": null,
   "metadata": {},
   "outputs": [],
   "source": []
  }
 ],
 "metadata": {
  "kernelspec": {
   "display_name": "py_main",
   "language": "python",
   "name": "py_main"
  },
  "language_info": {
   "codemirror_mode": {
    "name": "ipython",
    "version": 2
   },
   "file_extension": ".py",
   "mimetype": "text/x-python",
   "name": "python",
   "nbconvert_exporter": "python",
   "pygments_lexer": "ipython2",
   "version": "2.7.15"
  }
 },
 "nbformat": 4,
 "nbformat_minor": 2
}
