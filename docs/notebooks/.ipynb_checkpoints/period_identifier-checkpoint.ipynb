{
 "cells": [
  {
   "cell_type": "markdown",
   "metadata": {},
   "source": [
    "## Methods used to identify periods"
   ]
  },
  {
   "cell_type": "code",
   "execution_count": 1,
   "metadata": {},
   "outputs": [],
   "source": [
    "import os,sys,glob,time,collections\n",
    "import numpy as np\n",
    "from netCDF4 import Dataset,num2date\n",
    "import random as random\n",
    "import dimarray as da\n",
    "sys.path.append(os.path.abspath('../../'))\n",
    "from persistence_functions import *"
   ]
  },
  {
   "cell_type": "code",
   "execution_count": 9,
   "metadata": {},
   "outputs": [
    {
     "name": "stdout",
     "output_type": "stream",
     "text": [
      "state index: [ 1. -1. -1.  1.  1. nan -1.  1.  1.  1. -1.  1.  1.  1.  1. -1. -1.  1.\n",
      "  1. -1. -1. -1. -1. -1. -1.  1.  1. -1. -1. -1.  1. -1. -1.  1.  1. -1.\n",
      " -1.  1.  1.  1. -1.  1.  1. -1. -1. -1. -1. -1. -1. -1.  1. -1. -1.  1.\n",
      "  1.  1.  1. -1.  1.  1. -1.  1. -1. -1. -1.  1.  1.  1. -1.  1. -1.  1.\n",
      " -1.  1. -1.  1. -1.  1.  1. -1.  1. -1.  1.  1.  1. -1. -1. -1. -1. -1.\n",
      " -1.  1.  1. -1. -1.  1.  1. -1. nan  1.]\n"
     ]
    }
   ],
   "source": [
    "ind=np.random.random(100)\n",
    "ind[ind<0.5]=-1\n",
    "ind[ind>=0.5]=1#\n",
    "ind[-2]=np.nan\n",
    "ind[5]=np.nan\n",
    "ind=np.array(ind,'f')\n",
    "print 'state index:',ind[0:100] "
   ]
  },
  {
   "cell_type": "code",
   "execution_count": 10,
   "metadata": {},
   "outputs": [
    {
     "name": "stdout",
     "output_type": "stream",
     "text": [
      "period_identifier(): [ 1. -2. -0.  2.  0. nan -1.  0.  3.  0. -1.  0.  4.  0.  0. -2. -0.  2.\n",
      "  0. -0. -0. -6. -0. -0. -0.  2.  0. -0. -3. -0.  1. -2. -0.  2.  0. -2.\n",
      " -0.  0.  3.  0. -1.  2.  0. -0. -0. -0. -7. -0. -0. -0.  1. -2. -0.  0.\n",
      "  4.  0.  0. -1.  2.  0. -1.  1. -0. -3. -0.  0.  3.  0. -1.  1. -1.  1.\n",
      " -1.  1. -1.  1. -1.  2.  0. -1.  1. -1.  0.  3.  0. -0. -0. -6. -0. -0.\n",
      " -0.  2.  0. -2. -0.  2.  0. -1. nan  1.]\n"
     ]
    }
   ],
   "source": [
    "print 'period_identifier():',period_identifier(ind)[0:100]"
   ]
  },
  {
   "cell_type": "code",
   "execution_count": 11,
   "metadata": {},
   "outputs": [
    {
     "name": "stdout",
     "output_type": "stream",
     "text": [
      "optimized_period_identifier(): [ 1. -2.  0.  2.  0. nan -1.  0.  3.  0. -1.  0.  4.  0.  0. -2.  0.  2.\n",
      "  0.  0.  0. -6.  0.  0.  0.  2.  0.  0. -3.  0.  1. -2.  0.  2.  0. -2.\n",
      "  0.  0.  3.  0. -1.  2.  0.  0.  0.  0. -7.  0.  0.  0.  1. -2.  0.  0.\n",
      "  4.  0.  0. -1.  2.  0. -1.  1.  0. -3.  0.  0.  3.  0. -1.  1. -1.  1.\n",
      " -1.  1. -1.  1. -1.  2.  0. -1.  1. -1.  0.  3.  0.  0.  0. -6.  0.  0.\n",
      "  0.  2.  0. -2.  0.  2.  0. -1. nan  1.]\n"
     ]
    }
   ],
   "source": [
    "print 'optimized_period_identifier():',optimized_period_identifier(ind)[0:100]"
   ]
  },
  {
   "cell_type": "code",
   "execution_count": null,
   "metadata": {},
   "outputs": [],
   "source": []
  }
 ],
 "metadata": {
  "kernelspec": {
   "display_name": "py_main",
   "language": "python",
   "name": "py_main"
  },
  "language_info": {
   "codemirror_mode": {
    "name": "ipython",
    "version": 2
   },
   "file_extension": ".py",
   "mimetype": "text/x-python",
   "name": "python",
   "nbconvert_exporter": "python",
   "pygments_lexer": "ipython2",
   "version": "2.7.15"
  }
 },
 "nbformat": 4,
 "nbformat_minor": 2
}
